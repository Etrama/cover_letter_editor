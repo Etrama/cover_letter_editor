{
 "cells": [
  {
   "cell_type": "code",
   "execution_count": 1,
   "metadata": {},
   "outputs": [],
   "source": [
    "import re\n",
    "from docx import Document\n",
    "from docx.shared import Pt\n",
    "import PySimpleGUI as gui"
   ]
  },
  {
   "cell_type": "code",
   "execution_count": 2,
   "metadata": {},
   "outputs": [],
   "source": [
    "FILE_SRC = r\"C:\\Users\\kaush\\Desktop\\Resumes\\Cover Letters\\Script\\0_Cover letter_Kaushik Moudgalya_v2.docx\"\n",
    "#get company name from the user:\n",
    "COMPANY = gui.PopupGetText(\"Enter the company name: \")\n",
    "POSITION = gui.PopupGetText(\"Enter the position name: \")\n",
    "# TO DO: we need a dialog box that will ask me to enter the company name\n",
    "FILE_DEST = r\"C:\\Users\\kaush\\Desktop\\Resumes\\Cover Letters\\generated_cover_letters\\\\\" + str(COMPANY) + r\"_Cover letter_Kaushik Moudgalya_v2.docx\""
   ]
  },
  {
   "cell_type": "code",
   "execution_count": 3,
   "metadata": {},
   "outputs": [],
   "source": [
    "# replace the \"Position\" and the \"Company\" strings.\n",
    "document = Document(FILE_SRC)\n",
    "# some stuff for the font\n",
    "style = document.styles['Normal']\n",
    "font = style.font\n",
    "font.name, font.size = 'Arial', Pt(10.5)\n",
    "# font.size = Pt(10.5)\n",
    "# loop through the paragraphs and replace the strings\n",
    "for index, para in enumerate(document.paragraphs):\n",
    "    # print(index, para.text)\n",
    "    if \"Position\" and \"Company\" in para.text:\n",
    "        # print(para.text)\n",
    "        new_text = re.sub(\"Position\", POSITION, para.text)\n",
    "        new_text = re.sub(\"Company\", COMPANY, new_text)\n",
    "        para.text = new_text\n",
    "        para.style = style\n",
    "        break\n",
    "# following code tests if the strings are replaced\n",
    "# for index, para in enumerate(document.paragraphs):\n",
    "#     print(index, para.text)\n",
    "document.save(FILE_DEST)\n"
   ]
  }
 ],
 "metadata": {
  "kernelspec": {
   "display_name": "Python 3",
   "language": "python",
   "name": "python3"
  },
  "language_info": {
   "codemirror_mode": {
    "name": "ipython",
    "version": 3
   },
   "file_extension": ".py",
   "mimetype": "text/x-python",
   "name": "python",
   "nbconvert_exporter": "python",
   "pygments_lexer": "ipython3",
   "version": "3.10.10"
  },
  "orig_nbformat": 4
 },
 "nbformat": 4,
 "nbformat_minor": 2
}
